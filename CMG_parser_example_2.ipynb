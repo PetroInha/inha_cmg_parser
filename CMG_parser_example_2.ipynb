{
 "cells": [
  {
   "cell_type": "code",
   "execution_count": null,
   "metadata": {},
   "outputs": [],
   "source": [
    "# =============================================================================\n",
    "# Main Script for CMG Parser _ ver 2.0, include parallel & grid output \n",
    "# Author: Honggeun Jo\n",
    "# Date: 08/21/2023 - \n",
    "# =============================================================================\n",
    "\n",
    "# =============================================================================\n",
    "# Import librarays & Initializing\n",
    "# =============================================================================\n",
    "import os\n",
    "import shutil\n",
    "import numpy as np\n",
    "import matplotlib.pyplot as plt\n",
    "import Subfunction as sub\n",
    "import pyvista as pv\n",
    "\n",
    "# Basic info for CMG\n",
    "CMG =  '\"C:\\\\Program Files\\\\CMG\\\\IMEX\\\\2022.10\\\\Win_x64\\\\EXE\\\\mx202210.exe\"'\n",
    "Current_Working_Dir = \"C:/100 Research/cmg_parser\"\n",
    "os.chdir(Current_Working_Dir)\n",
    "SIM =  \"Forward_simulation.dat\"\n",
    "# Total_Number of realizations\n",
    "No_realization = 10\n",
    "# Reservoir extent\n",
    "nx = 28; ny = 28; nz = 20\n",
    "# number of wells \n",
    "No_well_Prod = 4\n",
    "No_well_Inj = 1\n",
    "# time steps\n",
    "Ptime = np.arange(50, 1001, 50)\n",
    "## Run CMG : subprocess.call([CMG,\"-f\",SIM])"
   ]
  },
  {
   "cell_type": "code",
   "execution_count": null,
   "metadata": {},
   "outputs": [],
   "source": [
    "# ===a==========================================================================\n",
    "# Load ensemble\n",
    "# =============================================================================\n",
    "Realizations_LogPerm = np.load('ensemble_101.npz')['logPermeability']\n",
    "Realizations_Porosity = np.load('ensemble_101.npz')['porosity']\n",
    "\n",
    "print(Realizations_LogPerm.shape, Realizations_Porosity.shape)"
   ]
  },
  {
   "cell_type": "code",
   "execution_count": null,
   "metadata": {},
   "outputs": [],
   "source": [
    "# =============================================================================\n",
    "# Make directories for ensemble\n",
    "# =============================================================================\n",
    "sub.Tstep(Ptime)\n",
    "for i in range(No_realization) :\n",
    "    if os.path.exists(f'realization_{str(i)}')==False: \n",
    "        os.mkdir(f'realization_{str(i)}')\n",
    "    # main data file\n",
    "    shutil.copy('Forward_simulation.dat', f'realization_{str(i)}/Forward_simulation.dat')\n",
    "    # time steps\n",
    "    shutil.copy('TSTEP.DAT', f'realization_{str(i)}/TSTEP.DAT')\n",
    "    # conttol files\n",
    "    shutil.copy('Control_Inj.DAT', f'realization_{str(i)}/Control_Inj.DAT')\n",
    "    shutil.copy('Control_Prod.DAT', f'realization_{str(i)}/Control_Prod.DAT')\n",
    "    # properties\n",
    "    sub.SetPerm(Realizations_LogPerm[i].T, dir_ = f'realization_{str(i)}')\n",
    "    sub.SetPoro(Realizations_Porosity[i].T, dir_ = f'realization_{str(i)}')\n",
    "    "
   ]
  },
  {
   "cell_type": "code",
   "execution_count": null,
   "metadata": {},
   "outputs": [],
   "source": [
    "# =============================================================================\n",
    "# Generate variables to save results\n",
    "# =============================================================================\n",
    "WBHP, WGBP, WOPR, WWPR, WGPR, WCOP, WCWP, WCGP, WWIR, WCWI = sub.null_prod(No_realization, No_well_Prod, No_well_Inj, Ptime)\n",
    "SO, SW, PRES = np.zeros((No_realization,len(Ptime)+1,nz,ny,nx)),np.zeros((No_realization,len(Ptime)+1,nz,ny,nx)),np.zeros((No_realization,len(Ptime)+1,nz,ny,nx))"
   ]
  },
  {
   "cell_type": "code",
   "execution_count": null,
   "metadata": {},
   "outputs": [],
   "source": [
    "# =============================================================================\n",
    "# Run simulations\n",
    "# =============================================================================\n",
    "for i in range(No_realization) :\n",
    "    os.chdir(f'{Current_Working_Dir}/realization_'+str(i))\n",
    "    #os.system(f'{CMG} -f {SIM}')\n",
    "    WBHP[i], WGBP[i], WOPR[i], WWPR[i], WGPR[i], WCOP[i], WCWP[i], WCGP[i], WWIR[i], WCWI[i] = sub.read_out(Ptime, 'Forward_simulation.out', No_well_Prod, No_well_Inj)\n",
    "    SO[i], SW[i], PRES[i] = sub.read_out_grid(Ptime,'Forward_simulation.out', nx, ny, nz)\n",
    "    print(f'Ensemble simulation for realization_{str(i)} is completed')\n"
   ]
  },
  {
   "cell_type": "code",
   "execution_count": null,
   "metadata": {},
   "outputs": [],
   "source": [
    "# WCOP:\n",
    "plt.figure(figsize =(8,6))\n",
    "for i_ in range(1,5):\n",
    "    well_num = i_ -1\n",
    "    plt.subplot(2,2,i_)\n",
    "    plt.plot(Ptime,WCOP[i,:,well_num].T, '-', c = 'b', label = 'Inital ensemble',linewidth=0.5);\n",
    "    for i in range(1,No_realization):      \n",
    "        plt.plot(Ptime,WCOP[i,:,well_num].T, '-', c = 'b', linewidth=0.5);\n",
    "    plt.legend()\n",
    "    plt.title(f'Prod {i_}')\n",
    "    plt.xlabel('Time, days')\n",
    "    plt.ylabel('Production amount, MSTB')\n",
    "    plt.grid('on')\n",
    "plt.suptitle('Well Cumulative Oil Production')\n",
    "plt.tight_layout()\n",
    "plt.savefig('WCOP.svg')\n",
    "\n"
   ]
  },
  {
   "cell_type": "code",
   "execution_count": null,
   "metadata": {},
   "outputs": [],
   "source": [
    "grid = pv.ImageData()\n",
    "grid.dimensions = np.array(Realizations_LogPerm[0].T[:,::-1].shape) + 1\n",
    "grid.origin = (0, 0, 0)  # The bottom left corner of the data set\n",
    "grid.spacing = (1, 1, 1)  # These are the cell sizes along each axis\n",
    "grid.cell_data[\"values\"] = Realizations_LogPerm[0].T[:,::-1].flatten(order=\"F\")  # Flatten the array\n",
    "\n",
    "plotter = pv.Plotter(window_size = (1500,1000), notebook=True)\n",
    "plotter.add_text(\"3D visualization of Reservoir - Permeability of 1st realization\\n\", font_size=15)\n",
    "# plotter.set_scale(zscale=0.75)\n",
    "plotter.add_mesh(grid, show_edges=True)\n",
    "plotter.remove_scalar_bar()\n",
    "plotter.add_scalar_bar(\"Log permeability\", vertical= True, position_y = 0.25, interactive=False)\n",
    "plotter.update_scalar_bar_range([-1.7,4.7])\n",
    "plotter.show_grid()\n",
    "plotter.show(cpos =[(84.06758686482893, 85.59213397319502, 55.30007160018164),\n",
    "            (14.0, 14.0, 10.0),\n",
    "            (-0.2910466466174386, -0.29168853895593677, 0.9111584086943912)], \n",
    "            return_cpos=False)"
   ]
  },
  {
   "cell_type": "code",
   "execution_count": null,
   "metadata": {},
   "outputs": [],
   "source": [
    "for i in range(len(Ptime)+1):\n",
    "    grid = pv.ImageData()\n",
    "    grid.dimensions = np.array(SO[0,i].T[:,::-1].shape) + 1\n",
    "    grid.origin = (0, 0, 0)  # The bottom left corner of the data set\n",
    "    grid.spacing = (1, 1, 1)  # These are the cell sizes along each axis\n",
    "    grid.cell_data[\"values\"] = SO[0,i].T[:,::-1].flatten(order=\"F\")  # Flatten the array\n",
    "\n",
    "    plotter = pv.Plotter(window_size = (1500,1000), notebook=True)\n",
    "    plotter.add_text(\"3D visualization of Reservoir - Oil Saturation of 1st realization\\n\", font_size=15)\n",
    "    # plotter.set_scale(zscale=0.75)\n",
    "    plotter.add_mesh(grid, show_edges=True,cmap = 'jet')\n",
    "    plotter.remove_scalar_bar()\n",
    "    plotter.add_scalar_bar(\"Oil Sat.\", vertical= True, position_y = 0.25, interactive=False)\n",
    "    plotter.update_scalar_bar_range([0.177,0.84])\n",
    "    plotter.show_grid()\n",
    "    plotter.show(cpos =[(84.06758686482893, 85.59213397319502, 55.30007160018164),\n",
    "                (14.0, 14.0, 10.0),\n",
    "                (-0.2910466466174386, -0.29168853895593677, 0.9111584086943912)], \n",
    "                return_cpos=False)\n",
    "    plotter.screenshot(filename = f'screenshot_{i}.png', transparent_background = True)\n",
    "    plotter.close()"
   ]
  },
  {
   "cell_type": "code",
   "execution_count": null,
   "metadata": {},
   "outputs": [],
   "source": [
    "from PIL import Image, ImageDraw\n",
    "image_list = [Image.open(file) for file in [f'screenshot_{i}.png' for i in range(len(Ptime)+1)]]\n",
    "\n",
    "image_list[0].save(\n",
    "            'animation_v2.gif',\n",
    "            save_all=True,\n",
    "            append_images=image_list[1:], # append rest of the images\n",
    "            duration=300, # in milliseconds\n",
    "            loop=0)"
   ]
  },
  {
   "cell_type": "code",
   "execution_count": null,
   "metadata": {},
   "outputs": [],
   "source": []
  }
 ],
 "metadata": {
  "kernelspec": {
   "display_name": "Python 3",
   "language": "python",
   "name": "python3"
  },
  "language_info": {
   "codemirror_mode": {
    "name": "ipython",
    "version": 3
   },
   "file_extension": ".py",
   "mimetype": "text/x-python",
   "name": "python",
   "nbconvert_exporter": "python",
   "pygments_lexer": "ipython3",
   "version": "3.11.2"
  },
  "orig_nbformat": 4
 },
 "nbformat": 4,
 "nbformat_minor": 2
}
