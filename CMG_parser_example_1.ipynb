{
 "cells": [
  {
   "cell_type": "code",
   "execution_count": null,
   "metadata": {},
   "outputs": [],
   "source": [
    "# =============================================================================\n",
    "# Main Script for CMG Parser _ ver 1.0\n",
    "# Author: Honggeun Jo\n",
    "# Date: 08/21/2023 - \n",
    "# =============================================================================\n",
    "\n",
    "# =============================================================================\n",
    "# Import librarays & Initializing\n",
    "# =============================================================================\n",
    "import os\n",
    "import shutil\n",
    "import numpy as np\n",
    "import matplotlib.pyplot as plt\n",
    "import subprocess\n",
    "import Subfunction as sub\n",
    "import matplotlib.cm as cm\n",
    "\n",
    "# Basic info for CMG\n",
    "CMG =  '\"C:\\\\Program Files\\\\CMG\\\\IMEX\\\\2022.10\\\\Win_x64\\\\EXE\\\\mx202210.exe\"'\n",
    "Current_Working_Dir = \"C:/100 Research/cmg_parser\"\n",
    "os.chdir(Current_Working_Dir)\n",
    "SIM =  \"Forward_simulation.dat\"\n",
    "# Total_Number of realizations\n",
    "No_realization = 10\n",
    "# Reservoir extent\n",
    "nx = 28; ny = 28; nz = 20\n",
    "# number of wells \n",
    "No_well_Prod = 4\n",
    "No_well_Inj = 1\n",
    "# time steps\n",
    "Ptime = np.arange(50, 1001, 50)\n",
    "## Run CMG : subprocess.call([CMG,\"-f\",SIM])"
   ]
  },
  {
   "cell_type": "code",
   "execution_count": null,
   "metadata": {},
   "outputs": [],
   "source": [
    "# ===a==========================================================================\n",
    "# Load ensemble\n",
    "# =============================================================================\n",
    "Realizations_LogPerm = np.load('ensemble_101.npz')['logPermeability']\n",
    "Realizations_Porosity = np.load('ensemble_101.npz')['porosity']\n",
    "\n",
    "print(Realizations_LogPerm.shape, Realizations_Porosity.shape)"
   ]
  },
  {
   "cell_type": "code",
   "execution_count": null,
   "metadata": {},
   "outputs": [],
   "source": [
    "# =============================================================================\n",
    "# Make directories for ensemble\n",
    "# =============================================================================\n",
    "sub.Tstep(Ptime)\n",
    "for i in range(No_realization) :\n",
    "    if os.path.exists(f'realization_{str(i)}')==False: \n",
    "        os.mkdir(f'realization_{str(i)}')\n",
    "    # main data file\n",
    "    shutil.copy('Forward_simulation.dat', f'realization_{str(i)}/Forward_simulation.dat')\n",
    "    # time steps\n",
    "    shutil.copy('TSTEP.DAT', f'realization_{str(i)}/TSTEP.DAT')\n",
    "    # conttol files\n",
    "    shutil.copy('Control_Inj.DAT', f'realization_{str(i)}/Control_Inj.DAT')\n",
    "    shutil.copy('Control_Prod.DAT', f'realization_{str(i)}/Control_Prod.DAT')\n",
    "    # properties\n",
    "    sub.SetPerm(Realizations_LogPerm[i].T, dir_ = f'realization_{str(i)}')\n",
    "    sub.SetPoro(Realizations_Porosity[i].T, dir_ = f'realization_{str(i)}')\n",
    "    "
   ]
  },
  {
   "cell_type": "code",
   "execution_count": null,
   "metadata": {},
   "outputs": [],
   "source": [
    "# =============================================================================\n",
    "# Generate variables to save results\n",
    "# =============================================================================\n",
    "WBHP, WGBP, WOPR, WWPR, WGPR, WCOP, WCWP, WCGP, WWIR, WCWI = sub.null_prod(No_realization, No_well_Prod, No_well_Inj, Ptime)"
   ]
  },
  {
   "cell_type": "code",
   "execution_count": null,
   "metadata": {},
   "outputs": [],
   "source": [
    "# =============================================================================\n",
    "# Run simulations\n",
    "# =============================================================================\n",
    "for i in range(No_realization) :\n",
    "    os.chdir(f'{Current_Working_Dir}/realization_'+str(i))\n",
    "    os.system(f'{CMG} -f {SIM}')\n",
    "    WBHP[i], WGBP[i], WOPR[i], WWPR[i], WGPR[i], WCOP[i], WCWP[i], WCGP[i], WWIR[i], WCWI[i] = sub.read_out(Ptime, 'Forward_simulation.out', No_well_Prod, No_well_Inj)\n",
    "    print(f'Ensemble simulation for realization_{str(i)} is completed')\n"
   ]
  },
  {
   "cell_type": "code",
   "execution_count": null,
   "metadata": {},
   "outputs": [],
   "source": [
    "# =============================================================================\n",
    "# Save and visualize results\n",
    "# =============================================================================\n",
    "# WOPR:\n",
    "plt.figure(figsize =(10,10))\n",
    "for i_ in range(1,5):\n",
    "    well_num = i_ -1\n",
    "    plt.subplot(2,2,i_)\n",
    "    plt.plot(Ptime,WOPR[i,:,well_num].T, '-', c = [0.2,0.2,0.2], label = 'Inital ensemble',linewidth=0.5);\n",
    "    for i in range(1,No_realization):    \n",
    "        plt.plot(Ptime,WOPR[i,:,well_num].T, '-', c = [0.2,0.2,0.2],linewidth=0.5);\n",
    "    plt.legend()\n",
    "    plt.title(f'Prod {i_}')\n",
    "    plt.xlabel('Time, days')\n",
    "    plt.ylabel('Production rate, STB/day')\n",
    "plt.suptitle('Well Oil Production Rate')\n",
    "plt.savefig('WOPR.svg')\n",
    "\n",
    "    "
   ]
  },
  {
   "cell_type": "code",
   "execution_count": null,
   "metadata": {},
   "outputs": [],
   "source": [
    "\n",
    "# WWPR:\n",
    "plt.figure(figsize =(10,10))\n",
    "for i_ in range(1,5):\n",
    "    well_num = i_ -1\n",
    "    plt.subplot(2,2,i_)\n",
    "    plt.plot(Ptime,WWPR[i,:,well_num].T, '-', c = [0.2, 0.2, 0.2], label = 'Inital ensemble',linewidth=0.5);\n",
    "    for i in range(1,No_realization):    \n",
    "        plt.plot(Ptime,WWPR[i,:,well_num].T, '-', c = [0.2, 0.2, 0.2],linewidth=0.5);\n",
    "    plt.legend()\n",
    "    plt.title(f'Prod {i_}')\n",
    "    plt.xlabel('Time, days')\n",
    "    plt.ylabel('Production rate, STB/day')\n",
    "plt.suptitle('Well water Production Rate')\n",
    "plt.savefig('WWPR.svg')\n"
   ]
  },
  {
   "cell_type": "code",
   "execution_count": null,
   "metadata": {},
   "outputs": [],
   "source": [
    "\n",
    "# WCOP:\n",
    "plt.figure(figsize =(10,10))\n",
    "for i_ in range(1,5):\n",
    "    well_num = i_ -1\n",
    "    plt.subplot(2,2,i_)\n",
    "    plt.plot(Ptime,WCOP[i,:,well_num].T, '-', c = [0.2, 0.2, 0.2], label = 'Inital ensemble',linewidth=0.5);\n",
    "    for i in range(1,No_realization):      \n",
    "        plt.plot(Ptime,WCOP[i,:,well_num].T, '-', c = [0.2, 0.2, 0.2],linewidth=0.5);\n",
    "    plt.legend()\n",
    "    plt.title(f'Prod {i_}')\n",
    "    plt.xlabel('Time, days')\n",
    "    plt.ylabel('Production amount, MSTB')\n",
    "plt.suptitle('Well Cumulative Oil Production')\n",
    "plt.savefig('WCOP.svg')\n",
    "\n"
   ]
  },
  {
   "cell_type": "code",
   "execution_count": null,
   "metadata": {},
   "outputs": [],
   "source": [
    "\n",
    "# WCWP:\n",
    "plt.figure(figsize =(10,10))\n",
    "for i_ in range(1,5):\n",
    "    well_num = i_ -1\n",
    "    plt.subplot(2,2,i_)\n",
    "    plt.plot(Ptime,WCWP[i,:,well_num].T, '-', c = [0.2, 0.2, 0.2], label = 'Inital ensemble',linewidth=0.5);\n",
    "    for i in range(1,No_realization):      \n",
    "        plt.plot(Ptime,WCWP[i,:,well_num].T, '-', c = [0.2, 0.2, 0.2],linewidth=0.5);\n",
    "    plt.legend()\n",
    "    plt.title(f'Prod {i_}')\n",
    "    plt.xlabel('Time, days')\n",
    "    plt.ylabel('Production amount, MSTB')\n",
    "plt.suptitle('Well Cumulative Water Production')\n",
    "plt.savefig('WCWP.svg')       "
   ]
  }
 ],
 "metadata": {
  "kernelspec": {
   "display_name": "Python 3",
   "language": "python",
   "name": "python3"
  },
  "language_info": {
   "codemirror_mode": {
    "name": "ipython",
    "version": 3
   },
   "file_extension": ".py",
   "mimetype": "text/x-python",
   "name": "python",
   "nbconvert_exporter": "python",
   "pygments_lexer": "ipython3",
   "version": "3.11.2"
  },
  "orig_nbformat": 4
 },
 "nbformat": 4,
 "nbformat_minor": 2
}
